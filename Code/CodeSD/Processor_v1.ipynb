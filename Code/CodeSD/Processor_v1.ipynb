{
 "cells": [
  {
   "cell_type": "code",
   "execution_count": null,
   "id": "30988cb1",
   "metadata": {},
   "outputs": [],
   "source": [
    "import numpy as np\n",
    "from coffea.nanoevents import NanoEventsFactory, NanoAODSchema\n",
    "from coffea.nanoevents.methods import vector\n",
    "from coffea import processor\n",
    "import hist\n",
    "import json\n",
    "import awkward as ak\n",
    "import matplotlib.pyplot as plt\n",
    "\n",
    "import warnings\n",
    "warnings.filterwarnings('ignore')"
   ]
  },
  {
   "cell_type": "code",
   "execution_count": null,
   "id": "4814fd6d",
   "metadata": {},
   "outputs": [],
   "source": [
    "dataset_short_name = {\n",
    "    'ZJetsToNuNu_HT-100To200_TuneCP5_13TeV-madgraphMLM-pythia8':'ZJetsToNuNu_HT-100To200',\n",
    "    'ZJetsToNuNu_HT-200To400_TuneCP5_13TeV-madgraphMLM-pythia8':'ZJetsToNuNu_HT-200To400',\n",
    "    'ZJetsToNuNu_HT-400To600_TuneCP5_13TeV-madgraphMLM-pythia8':'ZJetsToNuNu_HT-400To600',\n",
    "    'ZJetsToNuNu_HT-600To800_TuneCP5_13TeV-madgraphMLM-pythia8':'ZJetsToNuNu_HT-600To800',\n",
    "    'ZJetsToNuNu_HT-800To1200_TuneCP5_13TeV-madgraphMLM-pythia8':'ZJetsToNuNu_HT-800To1200',\n",
    "    'ZJetsToNuNu_HT-1200To2500_TuneCP5_13TeV-madgraphMLM-pythia8':'ZJetsToNuNu_HT-1200To2500',\n",
    "    'ZJetsToNuNu_HT-2500ToInf_TuneCP5_13TeV-madgraphMLM-pythia8':'ZJetsToNuNu_HT-2500ToInf'\n",
    "}\n",
    "\n",
    "class BackgroundEstimatorProcessor(processor.ProcessorABC):\n",
    "    def __init__(self):\n",
    "        self.make_output = lambda: {\n",
    "            'sumw':0.,\n",
    "            'met_kin': hist.Hist(hist.axis.Regular(40,0,400,name='met',label='$p_T^{miss}$ [GeV]'))\n",
    "        }\n",
    "        \n",
    "    def process(self,events):\n",
    "        dataset = events.metadata['dataset']\n",
    "        mask = events.MET.pt > 30\n",
    "        met = events.MET[mask]\n",
    "\n",
    "        output = self.make_output()\n",
    "        output['sumw'] = ak.sum(events.genWeight)\n",
    "        output['met_kin'].fill(met = met.pt)\n",
    "\n",
    "        return {dataset_short_name[dataset]: output}\n",
    "\n",
    "    def postprocess(self,accumulator):\n",
    "        return accumulator"
   ]
  },
  {
   "cell_type": "code",
   "execution_count": null,
   "id": "1142fe31",
   "metadata": {},
   "outputs": [],
   "source": [
    "with open(\"data_ZToNuNu.json\",\"r\") as f:\n",
    "    fileset = json.load(f)\n",
    "\n",
    "for dataset,val in fileset.items():\n",
    "    fileset[dataset] = [\"root://cmsxrootd.fnal.gov/\" + file for file in val ]\n",
    "\n",
    "out = processor.run_uproot_job(\n",
    "    fileset,\n",
    "    treename=\"Events\",\n",
    "    processor_instance=BackgroundEstimatorProcessor(),\n",
    "    executor=processor.iterative_executor,\n",
    "    executor_args={\n",
    "        \"schema\": NanoAODSchema\n",
    "    }\n",
    ")"
   ]
  },
  {
   "cell_type": "code",
   "execution_count": null,
   "id": "f12c5c26",
   "metadata": {},
   "outputs": [],
   "source": [
    "plt.figure(figsize=(9,6))\n",
    "for dataset in out:\n",
    "    out[dataset][\"met_kin\"].plot1d(density=True,label=dataset)\n",
    "    plt.legend();"
   ]
  },
  {
   "cell_type": "code",
   "execution_count": null,
   "id": "916f1772",
   "metadata": {},
   "outputs": [],
   "source": [
    "xsecs = {\n",
    "    \"ZJetsToNuNu_HT-100To200\": 267,\n",
    "    \"ZJetsToNuNu_HT-200To400\": 73.08,\n",
    "    \"ZJetsToNuNu_HT-400To600\": 13.21,\n",
    "    \"ZJetsToNuNu_HT-600To800\": 2.413,\n",
    "    \"ZJetsToNuNu_HT-800To1200\": 1.071,\n",
    "    \"ZJetsToNuNu_HT-1200To2500\": 0.2497,\n",
    "    \"ZJetsToNuNu_HT-2500ToInf\": 0.005618\n",
    "}\n",
    "\n",
    "luminosity = {\n",
    "    \"2016\": 36330.0,\n",
    "    \"2017\": 41480.0,\n",
    "    \"2018\": 59830.0\n",
    "}\n",
    "\n",
    "scaled_hist = {}\n",
    "for dataset,histo in out.items():\n",
    "    xsec = xsecs[dataset]\n",
    "    lumi = luminosity[\"2017\"]\n",
    "    sumw = histo[\"sumw\"]\n",
    "    weight = (xsec*lumi)/sumw\n",
    "\n",
    "    h = histo.copy()\n",
    "    h[\"met_kin\"] *= weight\n",
    "    scaled_hist[dataset] = h"
   ]
  },
  {
   "cell_type": "code",
   "execution_count": null,
   "id": "e4b8837d",
   "metadata": {},
   "outputs": [],
   "source": [
    "for dataset in out:\n",
    "    scaled_hist[dataset][\"met_kin\"].plot1d(label=dataset)\n",
    "    plt.legend();"
   ]
  },
  {
   "cell_type": "code",
   "execution_count": null,
   "id": "b9d0e6ca",
   "metadata": {},
   "outputs": [],
   "source": [
    "processor.accumulate(scaled_hist.values())[\"met_kin\"].plot1d();"
   ]
  }
 ],
 "metadata": {
  "kernelspec": {
   "display_name": "Python 3.7.0 64-bit",
   "language": "python",
   "name": "python3"
  },
  "language_info": {
   "codemirror_mode": {
    "name": "ipython",
    "version": 3
   },
   "file_extension": ".py",
   "mimetype": "text/x-python",
   "name": "python",
   "nbconvert_exporter": "python",
   "pygments_lexer": "ipython3",
   "version": "3.7.0"
  },
  "vscode": {
   "interpreter": {
    "hash": "236865a125fbfb309d388ca78da41cc53a06051475d47841829953cd7fb3f3fd"
   }
  }
 },
 "nbformat": 4,
 "nbformat_minor": 5
}
