{
 "cells": [
  {
   "cell_type": "code",
   "execution_count": 1,
   "id": "9378e79d",
   "metadata": {},
   "outputs": [],
   "source": [
    "import numpy as np\n",
    "from coffea.nanoevents import NanoEventsFactory, NanoAODSchema\n",
    "from coffea import processor\n",
    "import hist\n",
    "import json\n",
    "import awkward as ak\n",
    "import pickle\n",
    "\n",
    "import warnings\n",
    "warnings.filterwarnings('ignore')"
   ]
  },
  {
   "cell_type": "code",
   "execution_count": 2,
   "id": "078f1252",
   "metadata": {},
   "outputs": [],
   "source": [
    "data = ak.from_json(\"data_ZToNuNu.json\")\n",
    "fl = \"root://cmsxrootd.fnal.gov/\""
   ]
  },
  {
   "cell_type": "code",
   "execution_count": 3,
   "id": "e942ff6d",
   "metadata": {},
   "outputs": [],
   "source": [
    "sample = [ i for i in data ]\n",
    "fname = [data[sample[i]][0] for i in range(len(sample))]"
   ]
  },
  {
   "cell_type": "code",
   "execution_count": 4,
   "id": "45b6e25c",
   "metadata": {},
   "outputs": [
    {
     "data": {
      "text/plain": [
       "['ZJetsToNuNu_HT-100To200',\n",
       " 'ZJetsToNuNu_HT-1200To2500',\n",
       " 'ZJetsToNuNu_HT-200To400',\n",
       " 'ZJetsToNuNu_HT-2500ToInf',\n",
       " 'ZJetsToNuNu_HT-400To600',\n",
       " 'ZJetsToNuNu_HT-600To800',\n",
       " 'ZJetsToNuNu_HT-800To1200']"
      ]
     },
     "execution_count": 4,
     "metadata": {},
     "output_type": "execute_result"
    }
   ],
   "source": [
    "sample"
   ]
  },
  {
   "cell_type": "code",
   "execution_count": 5,
   "id": "c276d3fe",
   "metadata": {},
   "outputs": [],
   "source": [
    "xsecs = {\n",
    "    \"ZJetsToNuNu_HT-100To200\": 267,\n",
    "    \"ZJetsToNuNu_HT-200To400\": 73.08,\n",
    "    \"ZJetsToNuNu_HT-400To600\": 13.21,\n",
    "    \"ZJetsToNuNu_HT-600To800\": 2.413,\n",
    "    \"ZJetsToNuNu_HT-800To1200\": 1.071,\n",
    "    \"ZJetsToNuNu_HT-1200To2500\": 0.2497,\n",
    "    \"ZJetsToNuNu_HT-2500ToInf\": 0.005618\n",
    "}\n",
    "\n",
    "luminosity = {\n",
    "    \"2016\": 36330.0,\n",
    "    \"2017\": 41480.0,\n",
    "    \"2018\": 59830.0\n",
    "}"
   ]
  },
  {
   "cell_type": "code",
   "execution_count": 6,
   "id": "7f6c80a3",
   "metadata": {},
   "outputs": [],
   "source": [
    "def histogram(sample):\n",
    "    '''\n",
    "    Para Descargar la data\n",
    "    '''\n",
    "    hT = []\n",
    "    for i in range(len(data[sample])):\n",
    "        print(\"{}. Muestra numero {} del dataset {}:\".format(i+1,i+1,sample))\n",
    "        h = hist.Hist(hist.axis.Regular(40,0,400,name='met',label='$p_T^{miss}$ [GeV]'))\n",
    "        fname = data[sample][i]\n",
    "        event_temp = NanoEventsFactory.from_root(\"root://cmsxrootd.fnal.gov/\"+fname,schemaclass=NanoAODSchema).events()\n",
    "        print(f\"Number of events before the cuts: {len(event_temp)}\")\n",
    "\n",
    "        good_met = event_temp.MET.pt > 50 ## ?\n",
    "\n",
    "        print(f\"Number of events after the cuts: {ak.sum(good_met)}\")\n",
    "        met = event_temp.MET[good_met]\n",
    "\n",
    "        #sumgenweight = ak.sum(event_temp.genWeight)\n",
    "        #sumgenweights = {sample:sumgenweight}\n",
    "        \n",
    "        h.fill(met = met.pt)\n",
    "        hT.append(h)\n",
    "    return hT\n",
    "\n",
    "def scaleAH(his_out,sample):\n",
    "    '''\n",
    "    Para acumular histogramas\n",
    "    '''\n",
    "    weight = (xsecs[sample]* luminosity[\"2017\"])# / his_out[1][sample]\n",
    "    acumm = processor.accumulate(his_out)\n",
    "    h = acumm*weight\n",
    "    \n",
    "    with open(\"histograms_data/{}.pkl\".format(sample), \"wb\") as f:\n",
    "        pickle.dump(h, f)\n",
    "    \n",
    "    return h\n",
    "\n",
    "def scaleAH_add(his_out,sample,sample_add):\n",
    "    '''\n",
    "    Para separar por secciones en las muestras.\n",
    "    '''\n",
    "    weight = (xsecs[sample]* luminosity[\"2017\"])# / his_out[1][sample_add]\n",
    "    acumm = processor.accumulate(his_out)\n",
    "    h = acumm*weight\n",
    "    \n",
    "    with open(\"histograms_data/{}.pkl\".format(sample_add), \"wb\") as f:\n",
    "        pickle.dump(h, f)\n",
    "    \n",
    "    return h\n",
    "\n",
    "def read(h:str):\n",
    "    '''\n",
    "    Lee la data del hisgrama guadado en formato pickel en la carpeta histograms_data\n",
    "    '''\n",
    "    with open('histograms_data/{}.pkl'.format(h), 'rb') as f:\n",
    "        x = pickle.load(f)\n",
    "    return x"
   ]
  },
  {
   "cell_type": "markdown",
   "id": "29140f21",
   "metadata": {},
   "source": [
    "-----------------------\n",
    "## Obtencion de la Data"
   ]
  },
  {
   "cell_type": "code",
   "execution_count": null,
   "id": "952ba6bf",
   "metadata": {},
   "outputs": [],
   "source": [
    "out0 = histogram(sample[0])\n",
    "h0 = scaleAH(out0,sample[0])"
   ]
  },
  {
   "cell_type": "code",
   "execution_count": null,
   "id": "e03112d0",
   "metadata": {},
   "outputs": [],
   "source": [
    "out1 = histogram(sample[1])\n",
    "h1 = scaleAH(out1,sample[1])"
   ]
  },
  {
   "cell_type": "code",
   "execution_count": null,
   "id": "feaaaee2",
   "metadata": {},
   "outputs": [],
   "source": [
    "out2 = histogram(sample[2])\n",
    "h2 = scaleAH(out2,sample[2])"
   ]
  },
  {
   "cell_type": "code",
   "execution_count": null,
   "id": "0e9b0ee5",
   "metadata": {},
   "outputs": [],
   "source": [
    "put2 = histogram(sample[4])\n",
    "put22 = histogram(sample[5])\n",
    "put23 = histogram(sample[6])\n",
    "\n",
    "h2_1 = scaleAH_add(out2,\"ZJetsToNuNu_HT-200To400\",sample[2])\n",
    "h2_2 = scaleAH_add(out22,\"ZJetsToNuNu_HT-200To400\",sample[3])\n",
    "h2_3 = scaleAH_add(out23,\"ZJetsToNuNu_HT-200To400\",sample[4])\n",
    "\n",
    "h21 = read(sample[2])\n",
    "h22 = read(sample[3])\n",
    "h23 = read(sample[4])\n",
    "\n",
    "h2 = processor.accumulate([h21,h22,h23])\n",
    "with open(\"histograms_data/{}.pkl\".format(\"ZJetsToNuNu_HT-200To400\"), \"wb\") as f:\n",
    "        pickle.dump(h2, f)"
   ]
  },
  {
   "cell_type": "code",
   "execution_count": null,
   "id": "c73e4fe5",
   "metadata": {},
   "outputs": [],
   "source": [
    "out3 = histogram(sample[3])\n",
    "h3 = scaleAH(out3,sample[3])"
   ]
  },
  {
   "cell_type": "code",
   "execution_count": null,
   "id": "b6072f63",
   "metadata": {},
   "outputs": [],
   "source": [
    "out4 = histogram(sample[4])\n",
    "h4 = scaleAH(out4,sample[4])"
   ]
  },
  {
   "cell_type": "code",
   "execution_count": null,
   "id": "38888ab8",
   "metadata": {},
   "outputs": [],
   "source": [
    "out5 = histogram(sample[5])\n",
    "h5 = scaleAH(out5,sample[5])"
   ]
  },
  {
   "cell_type": "code",
   "execution_count": null,
   "id": "4148c55b",
   "metadata": {},
   "outputs": [],
   "source": [
    "out6 = histogram(sample[6])\n",
    "h6 = scaleAH(out6,sample[6])"
   ]
  },
  {
   "cell_type": "markdown",
   "id": "b92d8477",
   "metadata": {},
   "source": [
    "---------------------\n",
    "## Analisis de histogramas"
   ]
  },
  {
   "cell_type": "code",
   "execution_count": 7,
   "id": "d73049ba",
   "metadata": {},
   "outputs": [],
   "source": [
    "h0 = read(sample[0])\n",
    "h1 = read(sample[1])\n",
    "h2 = read(sample[2])\n",
    "h3 = read(sample[3])\n",
    "h4 = read(sample[4])\n",
    "h5 = read(sample[5])\n",
    "h6 = read(sample[6])"
   ]
  },
  {
   "cell_type": "code",
   "execution_count": 8,
   "id": "83295014",
   "metadata": {},
   "outputs": [],
   "source": [
    "histos = {\n",
    "    \"dataset0\": h0, #ZJetsToNuNu_HT-100To200\n",
    "    \"dataset1\": h1, #ZJetsToNuNu_HT-1200To2500\n",
    "    \"dataset2\": h2, #ZJetsToNuNu_HT-200To400\n",
    "    \"dataset3\": h3, #ZJetsToNuNu_HT-2500ToInf\n",
    "    \"dataset4\": h4, #ZJetsToNuNu_HT-400To600\n",
    "    \"dataset5\": h5, #ZJetsToNuNu_HT-600To800\n",
    "    \"dataset6\": h6 #\"ZJetsToNuNu_HT-800To1200\"\n",
    "}"
   ]
  },
  {
   "cell_type": "code",
   "execution_count": 9,
   "id": "a2a35200",
   "metadata": {},
   "outputs": [],
   "source": [
    "import matplotlib.pyplot as plt"
   ]
  },
  {
   "cell_type": "code",
   "execution_count": 10,
   "id": "fa04dd6e",
   "metadata": {},
   "outputs": [
    {
     "data": {
      "image/png": "[encoded data removed]",
      "text/plain": [
       "<Figure size 720x432 with 1 Axes>"
      ]
     },
     "metadata": {
      "needs_background": "light"
     },
     "output_type": "display_data"
    }
   ],
   "source": [
    "plt.figure(figsize=(10,6))\n",
    "h = processor.accumulate(histos.values()).plot1d(density=True)\n",
    "\n",
    "with open(\"histograms_data/{}.pkl\".format(\"histos\"), \"wb\") as f:\n",
    "        pickle.dump(h, f)"
   ]
  },
  {
   "cell_type": "code",
   "execution_count": 11,
   "id": "616866b4",
   "metadata": {},
   "outputs": [
    {
     "name": "stdout",
     "output_type": "stream",
     "text": [
      "dataset0 : ZJetsToNuNu_HT-100To200\n",
      "dataset1 : ZJetsToNuNu_HT-1200To2500\n",
      "dataset2 : ZJetsToNuNu_HT-200To400\n",
      "dataset3 : ZJetsToNuNu_HT-2500ToInf\n",
      "dataset4 : ZJetsToNuNu_HT-400To600\n",
      "dataset5 : ZJetsToNuNu_HT-600To800\n",
      "dataset6 : ZJetsToNuNu_HT-800To1200\n"
     ]
    },
    {
     "data": {
      "image/png": "[encoded data removed]",
      "text/plain": [
       "<Figure size 720x432 with 1 Axes>"
      ]
     },
     "metadata": {
      "needs_background": "light"
     },
     "output_type": "display_data"
    }
   ],
   "source": [
    "plt.figure(figsize=(10,6))\n",
    "for i,j in enumerate(histos):\n",
    "    print(j,\":\",sample[i])\n",
    "    histos[f\"{j}\"].plot1d(density=True)\n",
    "plt.legend(sample)\n",
    "plt.show()"
   ]
  },
  {
   "cell_type": "code",
   "execution_count": null,
   "id": "1f02b075",
   "metadata": {},
   "outputs": [],
   "source": []
  }
 ],
 "metadata": {
  "kernelspec": {
   "display_name": "Python 3.9.12 ('base')",
   "language": "python",
   "name": "python3"
  },
  "language_info": {
   "codemirror_mode": {
    "name": "ipython",
    "version": 3
   },
   "file_extension": ".py",
   "mimetype": "text/x-python",
   "name": "python",
   "nbconvert_exporter": "python",
   "pygments_lexer": "ipython3",
   "version": "3.9.12"
  },
  "vscode": {
   "interpreter": {
    "hash": "88279d2366fe020547cde40dd65aa0e3aa662a6ec1f3ca12d88834876c85e1a6"
   }
  }
 },
 "nbformat": 4,
 "nbformat_minor": 5
}
