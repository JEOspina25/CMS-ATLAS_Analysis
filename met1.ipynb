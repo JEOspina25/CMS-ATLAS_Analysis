{
 "cells": [
  {
   "cell_type": "code",
   "execution_count": 3,
   "metadata": {},
   "outputs": [
    {
     "ename": "ImportError",
     "evalue": "Numba requires at least version 0.38.0 of llvmlite.\nInstalled version is 0.36.0.\nPlease update llvmlite.",
     "output_type": "error",
     "traceback": [
      "\u001b[1;31m---------------------------------------------------------------------------\u001b[0m",
      "\u001b[1;31mImportError\u001b[0m                               Traceback (most recent call last)",
      "\u001b[1;32mc:\\Users\\sergi\\Desktop\\ZToNuNu_hist\\met1.ipynb Celda 1\u001b[0m in \u001b[0;36m<cell line: 2>\u001b[1;34m()\u001b[0m\n\u001b[0;32m      <a href='vscode-notebook-cell:/c%3A/Users/sergi/Desktop/ZToNuNu_hist/met1.ipynb#W0sZmlsZQ%3D%3D?line=0'>1</a>\u001b[0m \u001b[39mimport\u001b[39;00m \u001b[39mnumpy\u001b[39;00m \u001b[39mas\u001b[39;00m \u001b[39mnp\u001b[39;00m\n\u001b[1;32m----> <a href='vscode-notebook-cell:/c%3A/Users/sergi/Desktop/ZToNuNu_hist/met1.ipynb#W0sZmlsZQ%3D%3D?line=1'>2</a>\u001b[0m \u001b[39mfrom\u001b[39;00m \u001b[39mcoffea\u001b[39;00m\u001b[39m.\u001b[39;00m\u001b[39mnanoevents\u001b[39;00m \u001b[39mimport\u001b[39;00m NanoEventsFactory, NanoAODSchema\n\u001b[0;32m      <a href='vscode-notebook-cell:/c%3A/Users/sergi/Desktop/ZToNuNu_hist/met1.ipynb#W0sZmlsZQ%3D%3D?line=2'>3</a>\u001b[0m \u001b[39mfrom\u001b[39;00m \u001b[39mcoffea\u001b[39;00m\u001b[39m.\u001b[39;00m\u001b[39mnanoevents\u001b[39;00m\u001b[39m.\u001b[39;00m\u001b[39mmethods\u001b[39;00m \u001b[39mimport\u001b[39;00m vector\n\u001b[0;32m      <a href='vscode-notebook-cell:/c%3A/Users/sergi/Desktop/ZToNuNu_hist/met1.ipynb#W0sZmlsZQ%3D%3D?line=3'>4</a>\u001b[0m \u001b[39mimport\u001b[39;00m \u001b[39mawkward\u001b[39;00m \u001b[39mas\u001b[39;00m \u001b[39mak\u001b[39;00m\n",
      "File \u001b[1;32md:\\anaconda3\\lib\\site-packages\\coffea\\nanoevents\\__init__.py:4\u001b[0m, in \u001b[0;36m<module>\u001b[1;34m\u001b[0m\n\u001b[0;32m      1\u001b[0m \u001b[39m\"\"\"NanoEvents and helpers\u001b[39;00m\n\u001b[0;32m      2\u001b[0m \n\u001b[0;32m      3\u001b[0m \u001b[39m\"\"\"\u001b[39;00m\n\u001b[1;32m----> 4\u001b[0m \u001b[39mfrom\u001b[39;00m \u001b[39mcoffea\u001b[39;00m\u001b[39m.\u001b[39;00m\u001b[39mnanoevents\u001b[39;00m\u001b[39m.\u001b[39;00m\u001b[39mfactory\u001b[39;00m \u001b[39mimport\u001b[39;00m NanoEventsFactory\n\u001b[0;32m      5\u001b[0m \u001b[39mfrom\u001b[39;00m \u001b[39mcoffea\u001b[39;00m\u001b[39m.\u001b[39;00m\u001b[39mnanoevents\u001b[39;00m\u001b[39m.\u001b[39;00m\u001b[39mschemas\u001b[39;00m \u001b[39mimport\u001b[39;00m (\n\u001b[0;32m      6\u001b[0m     BaseSchema,\n\u001b[0;32m      7\u001b[0m     NanoAODSchema,\n\u001b[1;32m   (...)\u001b[0m\n\u001b[0;32m     12\u001b[0m     PDUNESchema,\n\u001b[0;32m     13\u001b[0m )\n\u001b[0;32m     15\u001b[0m __all__ \u001b[39m=\u001b[39m [\n\u001b[0;32m     16\u001b[0m     \u001b[39m\"\u001b[39m\u001b[39mNanoEventsFactory\u001b[39m\u001b[39m\"\u001b[39m,\n\u001b[0;32m     17\u001b[0m     \u001b[39m\"\u001b[39m\u001b[39mBaseSchema\u001b[39m\u001b[39m\"\u001b[39m,\n\u001b[1;32m   (...)\u001b[0m\n\u001b[0;32m     23\u001b[0m     \u001b[39m\"\u001b[39m\u001b[39mPDUNESchema\u001b[39m\u001b[39m\"\u001b[39m,\n\u001b[0;32m     24\u001b[0m ]\n",
      "File \u001b[1;32md:\\anaconda3\\lib\\site-packages\\coffea\\nanoevents\\factory.py:10\u001b[0m, in \u001b[0;36m<module>\u001b[1;34m\u001b[0m\n\u001b[0;32m      8\u001b[0m \u001b[39mimport\u001b[39;00m \u001b[39mawkward\u001b[39;00m\n\u001b[0;32m      9\u001b[0m \u001b[39mimport\u001b[39;00m \u001b[39muproot\u001b[39;00m\n\u001b[1;32m---> 10\u001b[0m \u001b[39mfrom\u001b[39;00m \u001b[39mcoffea\u001b[39;00m\u001b[39m.\u001b[39;00m\u001b[39mnanoevents\u001b[39;00m\u001b[39m.\u001b[39;00m\u001b[39mmapping\u001b[39;00m \u001b[39mimport\u001b[39;00m (\n\u001b[0;32m     11\u001b[0m     CachedMapping,\n\u001b[0;32m     12\u001b[0m     ParquetSourceMapping,\n\u001b[0;32m     13\u001b[0m     PreloadedOpener,\n\u001b[0;32m     14\u001b[0m     PreloadedSourceMapping,\n\u001b[0;32m     15\u001b[0m     TrivialParquetOpener,\n\u001b[0;32m     16\u001b[0m     TrivialUprootOpener,\n\u001b[0;32m     17\u001b[0m     UprootSourceMapping,\n\u001b[0;32m     18\u001b[0m )\n\u001b[0;32m     19\u001b[0m \u001b[39mfrom\u001b[39;00m \u001b[39mcoffea\u001b[39;00m\u001b[39m.\u001b[39;00m\u001b[39mnanoevents\u001b[39;00m\u001b[39m.\u001b[39;00m\u001b[39mschemas\u001b[39;00m \u001b[39mimport\u001b[39;00m BaseSchema, NanoAODSchema\n\u001b[0;32m     20\u001b[0m \u001b[39mfrom\u001b[39;00m \u001b[39mcoffea\u001b[39;00m\u001b[39m.\u001b[39;00m\u001b[39mnanoevents\u001b[39;00m\u001b[39m.\u001b[39;00m\u001b[39mutil\u001b[39;00m \u001b[39mimport\u001b[39;00m key_to_tuple, tuple_to_key\n",
      "File \u001b[1;32md:\\anaconda3\\lib\\site-packages\\coffea\\nanoevents\\mapping\\__init__.py:1\u001b[0m, in \u001b[0;36m<module>\u001b[1;34m\u001b[0m\n\u001b[1;32m----> 1\u001b[0m \u001b[39mfrom\u001b[39;00m \u001b[39m.\u001b[39;00m\u001b[39muproot\u001b[39;00m \u001b[39mimport\u001b[39;00m TrivialUprootOpener, UprootSourceMapping\n\u001b[0;32m      2\u001b[0m \u001b[39mfrom\u001b[39;00m \u001b[39m.\u001b[39;00m\u001b[39mparquet\u001b[39;00m \u001b[39mimport\u001b[39;00m TrivialParquetOpener, ParquetSourceMapping\n\u001b[0;32m      3\u001b[0m \u001b[39mfrom\u001b[39;00m \u001b[39m.\u001b[39;00m\u001b[39mpreloaded\u001b[39;00m \u001b[39mimport\u001b[39;00m (\n\u001b[0;32m      4\u001b[0m     SimplePreloadedColumnSource,\n\u001b[0;32m      5\u001b[0m     PreloadedOpener,\n\u001b[0;32m      6\u001b[0m     PreloadedSourceMapping,\n\u001b[0;32m      7\u001b[0m )\n",
      "File \u001b[1;32md:\\anaconda3\\lib\\site-packages\\coffea\\nanoevents\\mapping\\uproot.py:5\u001b[0m, in \u001b[0;36m<module>\u001b[1;34m\u001b[0m\n\u001b[0;32m      3\u001b[0m \u001b[39mimport\u001b[39;00m \u001b[39mawkward\u001b[39;00m\n\u001b[0;32m      4\u001b[0m \u001b[39mimport\u001b[39;00m \u001b[39mjson\u001b[39;00m\n\u001b[1;32m----> 5\u001b[0m \u001b[39mfrom\u001b[39;00m \u001b[39mcoffea\u001b[39;00m\u001b[39m.\u001b[39;00m\u001b[39mnanoevents\u001b[39;00m\u001b[39m.\u001b[39;00m\u001b[39mmapping\u001b[39;00m\u001b[39m.\u001b[39;00m\u001b[39mbase\u001b[39;00m \u001b[39mimport\u001b[39;00m UUIDOpener, BaseSourceMapping\n\u001b[0;32m      6\u001b[0m \u001b[39mfrom\u001b[39;00m \u001b[39mcoffea\u001b[39;00m\u001b[39m.\u001b[39;00m\u001b[39mnanoevents\u001b[39;00m\u001b[39m.\u001b[39;00m\u001b[39mutil\u001b[39;00m \u001b[39mimport\u001b[39;00m quote, tuple_to_key\n\u001b[0;32m      9\u001b[0m \u001b[39mclass\u001b[39;00m \u001b[39mTrivialUprootOpener\u001b[39;00m(UUIDOpener):\n",
      "File \u001b[1;32md:\\anaconda3\\lib\\site-packages\\coffea\\nanoevents\\mapping\\base.py:5\u001b[0m, in \u001b[0;36m<module>\u001b[1;34m\u001b[0m\n\u001b[0;32m      3\u001b[0m \u001b[39mfrom\u001b[39;00m \u001b[39mcollections\u001b[39;00m\u001b[39m.\u001b[39;00m\u001b[39mabc\u001b[39;00m \u001b[39mimport\u001b[39;00m Mapping\n\u001b[0;32m      4\u001b[0m \u001b[39mimport\u001b[39;00m \u001b[39mnumpy\u001b[39;00m\n\u001b[1;32m----> 5\u001b[0m \u001b[39mfrom\u001b[39;00m \u001b[39mcoffea\u001b[39;00m\u001b[39m.\u001b[39;00m\u001b[39mnanoevents\u001b[39;00m \u001b[39mimport\u001b[39;00m transforms\n\u001b[0;32m      6\u001b[0m \u001b[39mfrom\u001b[39;00m \u001b[39mcoffea\u001b[39;00m\u001b[39m.\u001b[39;00m\u001b[39mnanoevents\u001b[39;00m\u001b[39m.\u001b[39;00m\u001b[39mutil\u001b[39;00m \u001b[39mimport\u001b[39;00m key_to_tuple, tuple_to_key\n\u001b[0;32m      9\u001b[0m \u001b[39mclass\u001b[39;00m \u001b[39mUUIDOpener\u001b[39;00m:\n",
      "File \u001b[1;32md:\\anaconda3\\lib\\site-packages\\coffea\\nanoevents\\transforms.py:3\u001b[0m, in \u001b[0;36m<module>\u001b[1;34m\u001b[0m\n\u001b[0;32m      1\u001b[0m \u001b[39mimport\u001b[39;00m \u001b[39mcopy\u001b[39;00m\n\u001b[0;32m      2\u001b[0m \u001b[39mimport\u001b[39;00m \u001b[39mnumpy\u001b[39;00m\n\u001b[1;32m----> 3\u001b[0m \u001b[39mimport\u001b[39;00m \u001b[39mnumba\u001b[39;00m\n\u001b[0;32m      4\u001b[0m \u001b[39mimport\u001b[39;00m \u001b[39mawkward\u001b[39;00m\n\u001b[0;32m      5\u001b[0m \u001b[39mfrom\u001b[39;00m \u001b[39mcoffea\u001b[39;00m\u001b[39m.\u001b[39;00m\u001b[39mnanoevents\u001b[39;00m\u001b[39m.\u001b[39;00m\u001b[39mutil\u001b[39;00m \u001b[39mimport\u001b[39;00m concat\n",
      "File \u001b[1;32md:\\anaconda3\\lib\\site-packages\\numba\\__init__.py:199\u001b[0m, in \u001b[0;36m<module>\u001b[1;34m\u001b[0m\n\u001b[0;32m    196\u001b[0m                 warnings\u001b[39m.\u001b[39mwarn(\u001b[39m\"\u001b[39m\u001b[39mSVML was not found/could not be loaded.\u001b[39m\u001b[39m\"\u001b[39m)\n\u001b[0;32m    197\u001b[0m     \u001b[39mreturn\u001b[39;00m \u001b[39mFalse\u001b[39;00m\n\u001b[1;32m--> 199\u001b[0m _ensure_llvm()\n\u001b[0;32m    200\u001b[0m _ensure_critical_deps()\n\u001b[0;32m    202\u001b[0m \u001b[39m# we know llvmlite is working as the above tests passed, import it now as SVML\u001b[39;00m\n\u001b[0;32m    203\u001b[0m \u001b[39m# needs to mutate runtime options (sets the `-vector-library`).\u001b[39;00m\n",
      "File \u001b[1;32md:\\anaconda3\\lib\\site-packages\\numba\\__init__.py:111\u001b[0m, in \u001b[0;36m_ensure_llvm\u001b[1;34m()\u001b[0m\n\u001b[0;32m    106\u001b[0m     \u001b[39mif\u001b[39;00m ver \u001b[39m<\u001b[39m _min_llvmlite_version:\n\u001b[0;32m    107\u001b[0m         msg \u001b[39m=\u001b[39m (\u001b[39m\"\u001b[39m\u001b[39mNumba requires at least version \u001b[39m\u001b[39m%d\u001b[39;00m\u001b[39m.\u001b[39m\u001b[39m%d\u001b[39;00m\u001b[39m.\u001b[39m\u001b[39m%d\u001b[39;00m\u001b[39m of llvmlite.\u001b[39m\u001b[39m\\n\u001b[39;00m\u001b[39m\"\u001b[39m\n\u001b[0;32m    108\u001b[0m                \u001b[39m\"\u001b[39m\u001b[39mInstalled version is \u001b[39m\u001b[39m%s\u001b[39;00m\u001b[39m.\u001b[39m\u001b[39m\\n\u001b[39;00m\u001b[39m\"\u001b[39m\n\u001b[0;32m    109\u001b[0m                \u001b[39m\"\u001b[39m\u001b[39mPlease update llvmlite.\u001b[39m\u001b[39m\"\u001b[39m \u001b[39m%\u001b[39m\n\u001b[0;32m    110\u001b[0m                (_min_llvmlite_version \u001b[39m+\u001b[39m (llvmlite\u001b[39m.\u001b[39m__version__,)))\n\u001b[1;32m--> 111\u001b[0m         \u001b[39mraise\u001b[39;00m \u001b[39mImportError\u001b[39;00m(msg)\n\u001b[0;32m    112\u001b[0m \u001b[39melse\u001b[39;00m:\n\u001b[0;32m    113\u001b[0m     \u001b[39m# Not matching?\u001b[39;00m\n\u001b[0;32m    114\u001b[0m     warnings\u001b[39m.\u001b[39mwarn(\u001b[39m\"\u001b[39m\u001b[39mllvmlite version format not recognized!\u001b[39m\u001b[39m\"\u001b[39m)\n",
      "\u001b[1;31mImportError\u001b[0m: Numba requires at least version 0.38.0 of llvmlite.\nInstalled version is 0.36.0.\nPlease update llvmlite."
     ]
    }
   ],
   "source": [
    "import numpy as np\n",
    "from coffea.nanoevents import NanoEventsFactory, NanoAODSchema\n",
    "from coffea.nanoevents.methods import vector\n",
    "import awkward as ak\n",
    "import matplotlib.pyplot as plt"
   ]
  },
  {
   "cell_type": "code",
   "execution_count": 2,
   "metadata": {},
   "outputs": [
    {
     "name": "stderr",
     "output_type": "stream",
     "text": [
      "/afs/cern.ch/user/s/sduqueme/.conda/envs/coffea/lib/python3.7/site-packages/uproot/reading.py:177: FutureWarning: XRootD 5.1.1 is not fully supported; either upgrade to 5.2.0+ or set\n",
      "\n",
      "    open.defaults[\"xrootd_handler\"] = uproot.MultithreadedXRootDSource\n",
      "\n",
      "  warnings.warn(message, FutureWarning)\n"
     ]
    }
   ],
   "source": [
    "fname = \"root://cmsxrootd.fnal.gov//store/mc/RunIISummer20UL17NanoAODv9/ZToMuMu_M-120To200_TuneCP5_13TeV-powheg-pythia8/NANOAODSIM/106X_mc2017_realistic_v9-v1/260000/C8C3CB64-20D4-F943-BAC9-73EDE6F16331.root\"\n",
    "events = NanoEventsFactory.from_root(fname,schemaclass=NanoAODSchema).events()"
   ]
  },
  {
   "cell_type": "code",
   "execution_count": 3,
   "metadata": {},
   "outputs": [
    {
     "name": "stdout",
     "output_type": "stream",
     "text": [
      "Number of events before the cuts: 100000\n",
      "Number of events after the cuts: 2566\n"
     ]
    },
    {
     "name": "stderr",
     "output_type": "stream",
     "text": [
      "/afs/cern.ch/user/s/sduqueme/.conda/envs/coffea/lib/python3.7/site-packages/awkward/_connect/_numpy.py:196: RuntimeWarning: invalid value encountered in sqrt\n",
      "  *[nplike.asarray(x) for x in inputs], **kwargs\n"
     ]
    }
   ],
   "source": [
    "muon = ak.pad_none(events.Muon,target = 2)\n",
    "leading_muons_mass = (muon[:,0] + muon[:,1]).mass\n",
    "\n",
    "mask = (\n",
    "    (np.sum(muon.pt > 0,axis=1) == 2)\n",
    "    & (ak.prod(muon.charge, axis=1) == -1)\n",
    "    & (muon.pt[:,0] > 30)\n",
    "    & (muon.pt[:,1] > 30)\n",
    "    & (abs(muon.eta)[:,0] < 2.1)\n",
    "    & (abs(muon.eta)[:,0] < 2.1)\n",
    "    & ((60 < leading_muons_mass) & (leading_muons_mass < 120))\n",
    ")\n",
    "\n",
    "print(f\"Number of events before the cuts: {len(events)}\")\n",
    "print(f\"Number of events after the cuts: {ak.sum(mask)}\")"
   ]
  },
  {
   "cell_type": "code",
   "execution_count": 4,
   "metadata": {},
   "outputs": [],
   "source": [
    "def get_pt_x(obj:ak.Array):\n",
    "    return ak.sum(obj.pt * np.cos(obj.phi), axis=1)\n",
    "\n",
    "def get_pt_y(obj:ak.Array):\n",
    "    return ak.sum(obj.pt * np.sin(obj.phi), axis=1)\n",
    "\n",
    "def get_met(objs: list):\n",
    "    \"\"\"return a PolarTwoVector for MET\"\"\"\n",
    "    pt_x = ak.sum([get_pt_x(obj) for obj in objs], axis=0,mask_identity=True)\n",
    "    pt_y = ak.sum([get_pt_y(obj) for obj in objs], axis=0,mask_identity=True)\n",
    "    return ak.zip(\n",
    "        {\n",
    "            \"pt\":np.sqrt(pt_x **2 + pt_y **2),\n",
    "            \"phi\": np.arctan(pt_y / pt_x) + np.pi\n",
    "        },\n",
    "        with_name = \"PolarTwoVector\",\n",
    "        behavior = vector.behavior\n",
    "    )"
   ]
  },
  {
   "cell_type": "code",
   "execution_count": 5,
   "metadata": {},
   "outputs": [],
   "source": [
    "Objects = {\n",
    "    \"jet\": events[mask].Jet,\n",
    "    \"electron\": events[mask].Electron,\n",
    "    \"tau\": events[mask].Tau\n",
    "}\n",
    "met = get_met(Objects.values())"
   ]
  },
  {
   "cell_type": "code",
   "execution_count": 12,
   "metadata": {},
   "outputs": [
    {
     "data": {
      "text/plain": [
       "<PolarTwoVectorArray [{pt: 5.55, phi: 1.84, ... phi: None}] type='45244 * PolarT...'>"
      ]
     },
     "execution_count": 12,
     "metadata": {},
     "output_type": "execute_result"
    }
   ],
   "source": [
    "met"
   ]
  },
  {
   "cell_type": "code",
   "execution_count": 11,
   "metadata": {},
   "outputs": [
    {
     "data": {
      "text/plain": [
       "<Array [22.5, None, None, ... None, None, None] type='45244 * ?float32[parameter...'>"
      ]
     },
     "execution_count": 11,
     "metadata": {},
     "output_type": "execute_result"
    }
   ],
   "source": [
    "events.MET[mask].pt"
   ]
  },
  {
   "cell_type": "code",
   "execution_count": 8,
   "metadata": {},
   "outputs": [
    {
     "data": {
      "text/plain": [
       "<PolarTwoVectorArray [{pt: 5.55, phi: 1.84, ... phi: None}] type='45244 * PolarT...'>"
      ]
     },
     "execution_count": 8,
     "metadata": {},
     "output_type": "execute_result"
    }
   ],
   "source": [
    "met"
   ]
  },
  {
   "cell_type": "code",
   "execution_count": 6,
   "metadata": {},
   "outputs": [
    {
     "data": {
      "image/png": "[encoded data removed]",
      "text/plain": [
       "<Figure size 432x288 with 1 Axes>"
      ]
     },
     "metadata": {
      "needs_background": "light"
     },
     "output_type": "display_data"
    }
   ],
   "source": [
    "plt.hist(met[\"pt\"],bins=30)\n",
    "plt.xlabel(\"$p_T^{miss}$\")\n",
    "plt.ylabel(\"Events\")\n",
    "plt.legend([\"ZToMuMu_M-120To200\"]);"
   ]
  },
  {
   "cell_type": "code",
   "execution_count": 7,
   "metadata": {},
   "outputs": [
    {
     "data": {
      "image/png": "[encoded data removed]",
      "text/plain": [
       "<Figure size 432x288 with 1 Axes>"
      ]
     },
     "metadata": {
      "needs_background": "light"
     },
     "output_type": "display_data"
    }
   ],
   "source": [
    "plt.hist(met[\"phi\"],bins=30)\n",
    "plt.xlabel(\"$p_T^{miss}$\")\n",
    "plt.ylabel(\"Events\")\n",
    "plt.legend([\"ZToMuMu_M-120To200\"]);"
   ]
  },
  {
   "cell_type": "code",
   "execution_count": null,
   "metadata": {},
   "outputs": [],
   "source": []
  }
 ],
 "metadata": {
  "kernelspec": {
   "display_name": "Python 3.7.0 64-bit",
   "language": "python",
   "name": "python3"
  },
  "language_info": {
   "codemirror_mode": {
    "name": "ipython",
    "version": 3
   },
   "file_extension": ".py",
   "mimetype": "text/x-python",
   "name": "python",
   "nbconvert_exporter": "python",
   "pygments_lexer": "ipython3",
   "version": "3.7.0"
  },
  "vscode": {
   "interpreter": {
    "hash": "236865a125fbfb309d388ca78da41cc53a06051475d47841829953cd7fb3f3fd"
   }
  }
 },
 "nbformat": 4,
 "nbformat_minor": 2
}
